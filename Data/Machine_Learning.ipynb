{
 "cells": [
  {
   "cell_type": "code",
   "execution_count": 99,
   "id": "9cfe218b",
   "metadata": {},
   "outputs": [],
   "source": [
    "from sklearn.neural_network import MLPClassifier\n",
    "from sklearn.ensemble import RandomForestClassifier\n",
    "from sklearn.model_selection import train_test_split, cross_val_score\n",
    "import numpy as np\n",
    "import pandas as pd\n",
    "import matplotlib.pyplot as plt\n",
    "import os"
   ]
  },
  {
   "cell_type": "code",
   "execution_count": 100,
   "id": "69fb628f",
   "metadata": {},
   "outputs": [],
   "source": [
    "data = np.load('data2.npy')\n",
    "broken_idx = np.load('broken2.npy')\n",
    "outcomes = np.load('outcomes.npy')\n",
    "matches = np.load('match_ids.npy')\n"
   ]
  },
  {
   "cell_type": "code",
   "execution_count": 101,
   "id": "e003e35b",
   "metadata": {},
   "outputs": [],
   "source": [
    "\n",
    "mean_dats = []\n",
    "for dat in data:\n",
    "    mean_vals = np.mean(dat,axis=0)\n",
    "    mean_dats.append(mean_vals)\n",
    "mean_dats = np.array(mean_dats)\n"
   ]
  },
  {
   "cell_type": "code",
   "execution_count": 102,
   "id": "4dc6f324",
   "metadata": {},
   "outputs": [],
   "source": [
    "test = mean_dats[:,[0,1,2,3]]"
   ]
  },
  {
   "cell_type": "code",
   "execution_count": 103,
   "id": "5bfa5e43",
   "metadata": {},
   "outputs": [],
   "source": [
    "outcomes = np.delete(outcomes,broken_idx)"
   ]
  },
  {
   "cell_type": "code",
   "execution_count": 104,
   "id": "b4cb495f",
   "metadata": {},
   "outputs": [],
   "source": [
    "clf = MLPClassifier(max_iter=1000,solver='adam')\n",
    "clfR = RandomForestClassifier(n_estimators=1000,)"
   ]
  },
  {
   "cell_type": "code",
   "execution_count": 105,
   "id": "67ad5481",
   "metadata": {},
   "outputs": [],
   "source": [
    "X_train, X_test, y_train, y_test = train_test_split(test, outcomes, test_size=0.3)"
   ]
  },
  {
   "cell_type": "code",
   "execution_count": 106,
   "id": "46856fd6",
   "metadata": {},
   "outputs": [
    {
     "data": {
      "text/plain": [
       "RandomForestClassifier(n_estimators=1000)"
      ]
     },
     "execution_count": 106,
     "metadata": {},
     "output_type": "execute_result"
    }
   ],
   "source": [
    "clf.fit(X_train,y_train)\n",
    "clfR.fit(X_train,y_train)"
   ]
  },
  {
   "cell_type": "code",
   "execution_count": 107,
   "id": "1de9fefc",
   "metadata": {},
   "outputs": [
    {
     "name": "stdout",
     "output_type": "stream",
     "text": [
      "MLP score:  0.4966887417218543\n",
      "RF score:  0.5\n"
     ]
    }
   ],
   "source": [
    "print('MLP score: ', clf.score(X_test,y_test))\n",
    "print('RF score: ', clfR.score(X_test,y_test))"
   ]
  },
  {
   "cell_type": "code",
   "execution_count": 108,
   "id": "09a72334",
   "metadata": {},
   "outputs": [],
   "source": [
    "scores = cross_val_score(clf, test, outcomes, cv=10)"
   ]
  },
  {
   "cell_type": "code",
   "execution_count": 109,
   "id": "adb08bbb",
   "metadata": {},
   "outputs": [
    {
     "data": {
      "text/plain": [
       "array([0.56435644, 0.46534653, 0.51485149, 0.55445545, 0.63      ,\n",
       "       0.5       , 0.49      , 0.42      , 0.49      , 0.45      ])"
      ]
     },
     "execution_count": 109,
     "metadata": {},
     "output_type": "execute_result"
    }
   ],
   "source": [
    "scores"
   ]
  },
  {
   "cell_type": "code",
   "execution_count": 110,
   "id": "cde52acc",
   "metadata": {},
   "outputs": [
    {
     "data": {
      "text/plain": [
       "0.5079009900990099"
      ]
     },
     "execution_count": 110,
     "metadata": {},
     "output_type": "execute_result"
    }
   ],
   "source": [
    "np.mean(scores)"
   ]
  },
  {
   "cell_type": "code",
   "execution_count": 111,
   "id": "dadd44a5",
   "metadata": {},
   "outputs": [
    {
     "data": {
      "text/plain": [
       "0.05822741552258153"
      ]
     },
     "execution_count": 111,
     "metadata": {},
     "output_type": "execute_result"
    }
   ],
   "source": [
    "np.std(scores)"
   ]
  },
  {
   "cell_type": "code",
   "execution_count": null,
   "id": "f2bbff0a",
   "metadata": {},
   "outputs": [],
   "source": []
  }
 ],
 "metadata": {
  "kernelspec": {
   "display_name": "Python 3 (ipykernel)",
   "language": "python",
   "name": "python3"
  },
  "language_info": {
   "codemirror_mode": {
    "name": "ipython",
    "version": 3
   },
   "file_extension": ".py",
   "mimetype": "text/x-python",
   "name": "python",
   "nbconvert_exporter": "python",
   "pygments_lexer": "ipython3",
   "version": "3.7.13"
  }
 },
 "nbformat": 4,
 "nbformat_minor": 5
}
